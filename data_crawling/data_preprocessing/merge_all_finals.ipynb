{
 "cells": [
  {
   "cell_type": "markdown",
   "metadata": {},
   "source": [
    "Mục tiêu: kiểm tra file `crawled_all_shops/data_hcm_huy_final.csv` merge đúng chưa\n",
    "\n",
    "---"
   ]
  },
  {
   "cell_type": "code",
   "execution_count": null,
   "metadata": {},
   "outputs": [],
   "source": [
    "import pandas as pd\n",
    "import numpy as np\n",
    "import os"
   ]
  },
  {
   "cell_type": "code",
   "execution_count": null,
   "metadata": {},
   "outputs": [],
   "source": [
    "data_hcm_huy = pd.read_csv('./crawled_all_shops/data_hcm_huy_final.csv')\n",
    "print(data_hcm_huy.shape)\n",
    "data_hcm_huy.head()"
   ]
  },
  {
   "cell_type": "markdown",
   "metadata": {},
   "source": [
    "# Khám phá dữ liệu"
   ]
  },
  {
   "cell_type": "markdown",
   "metadata": {},
   "source": [
    "## Kiểm tra dòng trùng"
   ]
  },
  {
   "cell_type": "code",
   "execution_count": null,
   "metadata": {},
   "outputs": [
    {
     "name": "stdout",
     "output_type": "stream",
     "text": [
      "trùng trên toàn bộ thuộc tính: 0\n",
      "trùng trên thuộc tính RestaurantId: 0\n"
     ]
    }
   ],
   "source": [
    "print('trùng trên toàn bộ thuộc tính:', data_hcm_huy.duplicated().sum())\n",
    "print('trùng trên thuộc tính RestaurantId:', data_hcm_huy['RestaurantId'].dropna().duplicated().sum())"
   ]
  },
  {
   "cell_type": "markdown",
   "metadata": {},
   "source": [
    "## Kiểu dữ liệu mỗi cột"
   ]
  },
  {
   "cell_type": "code",
   "execution_count": null,
   "metadata": {},
   "outputs": [
    {
     "data": {
      "text/plain": [
       "RestaurantId         float64\n",
       "Name                  object\n",
       "Address               object\n",
       "District              object\n",
       "City                  object\n",
       "RestaurantStatus     float64\n",
       "Latitude             float64\n",
       "Longitude            float64\n",
       "TotalReviews         float64\n",
       "nExcellentReviews    float64\n",
       "nGoodReviews         float64\n",
       "nAverageReviews      float64\n",
       "nBadReviews          float64\n",
       "LocationScore        float64\n",
       "PriceScore           float64\n",
       "QualityScore         float64\n",
       "ServingScore         float64\n",
       "SpaceScore           float64\n",
       "AvgScore             float64\n",
       "TotalPictures        float64\n",
       "TotalViews           float64\n",
       "TotalSaves           float64\n",
       "IsBooking               bool\n",
       "IsDelivery              bool\n",
       "PrepTime              object\n",
       "Capacity              object\n",
       "LastHourCustomer      object\n",
       "ExtraInfo             object\n",
       "Active                  bool\n",
       "TotalFavourites      float64\n",
       "TotalCheckIns        float64\n",
       "Comment               object\n",
       "dtype: object"
      ]
     },
     "execution_count": 9,
     "metadata": {},
     "output_type": "execute_result"
    }
   ],
   "source": [
    "data_hcm_huy.dtypes"
   ]
  },
  {
   "cell_type": "markdown",
   "metadata": {},
   "source": [
    "## Phân bố giá trị"
   ]
  },
  {
   "cell_type": "markdown",
   "metadata": {},
   "source": [
    "### Thuộc tính numerical"
   ]
  },
  {
   "cell_type": "code",
   "execution_count": null,
   "metadata": {},
   "outputs": [
    {
     "data": {
      "text/html": [
       "<div>\n",
       "<style scoped>\n",
       "    .dataframe tbody tr th:only-of-type {\n",
       "        vertical-align: middle;\n",
       "    }\n",
       "\n",
       "    .dataframe tbody tr th {\n",
       "        vertical-align: top;\n",
       "    }\n",
       "\n",
       "    .dataframe thead th {\n",
       "        text-align: right;\n",
       "    }\n",
       "</style>\n",
       "<table border=\"1\" class=\"dataframe\">\n",
       "  <thead>\n",
       "    <tr style=\"text-align: right;\">\n",
       "      <th></th>\n",
       "      <th>RestaurantId</th>\n",
       "      <th>RestaurantStatus</th>\n",
       "      <th>Latitude</th>\n",
       "      <th>Longitude</th>\n",
       "      <th>TotalReviews</th>\n",
       "      <th>nExcellentReviews</th>\n",
       "      <th>nGoodReviews</th>\n",
       "      <th>nAverageReviews</th>\n",
       "      <th>nBadReviews</th>\n",
       "      <th>LocationScore</th>\n",
       "      <th>PriceScore</th>\n",
       "      <th>QualityScore</th>\n",
       "      <th>ServingScore</th>\n",
       "      <th>SpaceScore</th>\n",
       "      <th>AvgScore</th>\n",
       "      <th>TotalPictures</th>\n",
       "      <th>TotalViews</th>\n",
       "      <th>TotalSaves</th>\n",
       "      <th>TotalFavourites</th>\n",
       "      <th>TotalCheckIns</th>\n",
       "    </tr>\n",
       "  </thead>\n",
       "  <tbody>\n",
       "    <tr>\n",
       "      <th>missing_ratio</th>\n",
       "      <td>0.000000e+00</td>\n",
       "      <td>0.0</td>\n",
       "      <td>0.003224</td>\n",
       "      <td>0.002149</td>\n",
       "      <td>45.025632</td>\n",
       "      <td>62.678001</td>\n",
       "      <td>62.678001</td>\n",
       "      <td>62.678001</td>\n",
       "      <td>62.678001</td>\n",
       "      <td>62.678001</td>\n",
       "      <td>62.678001</td>\n",
       "      <td>62.678001</td>\n",
       "      <td>62.678001</td>\n",
       "      <td>62.678001</td>\n",
       "      <td>45.025632</td>\n",
       "      <td>0.0</td>\n",
       "      <td>0.0</td>\n",
       "      <td>0.0</td>\n",
       "      <td>73.844401</td>\n",
       "      <td>73.844401</td>\n",
       "    </tr>\n",
       "    <tr>\n",
       "      <th>min</th>\n",
       "      <td>2.000000e+00</td>\n",
       "      <td>2.0</td>\n",
       "      <td>-0.001451</td>\n",
       "      <td>0.000000</td>\n",
       "      <td>0.000000</td>\n",
       "      <td>0.000000</td>\n",
       "      <td>0.000000</td>\n",
       "      <td>0.000000</td>\n",
       "      <td>0.000000</td>\n",
       "      <td>0.000000</td>\n",
       "      <td>0.000000</td>\n",
       "      <td>0.000000</td>\n",
       "      <td>0.000000</td>\n",
       "      <td>0.000000</td>\n",
       "      <td>0.000000</td>\n",
       "      <td>0.0</td>\n",
       "      <td>1.0</td>\n",
       "      <td>0.0</td>\n",
       "      <td>0.000000</td>\n",
       "      <td>0.000000</td>\n",
       "    </tr>\n",
       "    <tr>\n",
       "      <th>max</th>\n",
       "      <td>1.000059e+09</td>\n",
       "      <td>4.0</td>\n",
       "      <td>106.656876</td>\n",
       "      <td>108.458313</td>\n",
       "      <td>1513.000000</td>\n",
       "      <td>1290.000000</td>\n",
       "      <td>1045.000000</td>\n",
       "      <td>428.000000</td>\n",
       "      <td>719.000000</td>\n",
       "      <td>10.000000</td>\n",
       "      <td>10.000000</td>\n",
       "      <td>10.000000</td>\n",
       "      <td>10.000000</td>\n",
       "      <td>10.000000</td>\n",
       "      <td>143.000000</td>\n",
       "      <td>12488.0</td>\n",
       "      <td>459463.0</td>\n",
       "      <td>11100.0</td>\n",
       "      <td>603.000000</td>\n",
       "      <td>200.000000</td>\n",
       "    </tr>\n",
       "    <tr>\n",
       "      <th>nunique</th>\n",
       "      <td>9.304700e+04</td>\n",
       "      <td>2.0</td>\n",
       "      <td>82345.000000</td>\n",
       "      <td>83111.000000</td>\n",
       "      <td>469.000000</td>\n",
       "      <td>195.000000</td>\n",
       "      <td>302.000000</td>\n",
       "      <td>158.000000</td>\n",
       "      <td>106.000000</td>\n",
       "      <td>92.000000</td>\n",
       "      <td>93.000000</td>\n",
       "      <td>92.000000</td>\n",
       "      <td>93.000000</td>\n",
       "      <td>93.000000</td>\n",
       "      <td>96.000000</td>\n",
       "      <td>1267.0</td>\n",
       "      <td>9711.0</td>\n",
       "      <td>970.0</td>\n",
       "      <td>246.000000</td>\n",
       "      <td>67.000000</td>\n",
       "    </tr>\n",
       "  </tbody>\n",
       "</table>\n",
       "</div>"
      ],
      "text/plain": [
       "               RestaurantId  RestaurantStatus      Latitude     Longitude  \\\n",
       "missing_ratio  0.000000e+00               0.0      0.003224      0.002149   \n",
       "min            2.000000e+00               2.0     -0.001451      0.000000   \n",
       "max            1.000059e+09               4.0    106.656876    108.458313   \n",
       "nunique        9.304700e+04               2.0  82345.000000  83111.000000   \n",
       "\n",
       "               TotalReviews  nExcellentReviews  nGoodReviews  nAverageReviews  \\\n",
       "missing_ratio     45.025632          62.678001     62.678001        62.678001   \n",
       "min                0.000000           0.000000      0.000000         0.000000   \n",
       "max             1513.000000        1290.000000   1045.000000       428.000000   \n",
       "nunique          469.000000         195.000000    302.000000       158.000000   \n",
       "\n",
       "               nBadReviews  LocationScore  PriceScore  QualityScore  \\\n",
       "missing_ratio    62.678001      62.678001   62.678001     62.678001   \n",
       "min               0.000000       0.000000    0.000000      0.000000   \n",
       "max             719.000000      10.000000   10.000000     10.000000   \n",
       "nunique         106.000000      92.000000   93.000000     92.000000   \n",
       "\n",
       "               ServingScore  SpaceScore    AvgScore  TotalPictures  \\\n",
       "missing_ratio     62.678001   62.678001   45.025632            0.0   \n",
       "min                0.000000    0.000000    0.000000            0.0   \n",
       "max               10.000000   10.000000  143.000000        12488.0   \n",
       "nunique           93.000000   93.000000   96.000000         1267.0   \n",
       "\n",
       "               TotalViews  TotalSaves  TotalFavourites  TotalCheckIns  \n",
       "missing_ratio         0.0         0.0        73.844401      73.844401  \n",
       "min                   1.0         0.0         0.000000       0.000000  \n",
       "max              459463.0     11100.0       603.000000     200.000000  \n",
       "nunique            9711.0       970.0       246.000000      67.000000  "
      ]
     },
     "execution_count": 10,
     "metadata": {},
     "output_type": "execute_result"
    }
   ],
   "source": [
    "num_cols = data_hcm_huy.select_dtypes([np.float64]).columns\n",
    "def missing_ratio(s):\n",
    "    return s.isna().sum() * 100 / len(s)\n",
    "\n",
    "data_hcm_huy[num_cols].agg([missing_ratio, pd.Series.min, pd.Series.max, pd.Series.nunique])"
   ]
  },
  {
   "cell_type": "markdown",
   "metadata": {},
   "source": [
    "$\\to$ max của `AvgScore` vô lý, phải từ 0-10. Có thể cào sai, sửa lại bằng cách lấy TB 5 cột điểm bên trái nó"
   ]
  },
  {
   "cell_type": "code",
   "execution_count": null,
   "metadata": {},
   "outputs": [
    {
     "data": {
      "text/plain": [
       "missing_ratio     62.678001\n",
       "min                0.000000\n",
       "max               10.000000\n",
       "nunique          683.000000\n",
       "Name: AvgScore, dtype: float64"
      ]
     },
     "execution_count": 16,
     "metadata": {},
     "output_type": "execute_result"
    }
   ],
   "source": [
    "data_hcm_huy['AvgScore'] = (data_hcm_huy['LocationScore'] + data_hcm_huy['PriceScore'] \\\n",
    "    + data_hcm_huy['PriceScore'] + data_hcm_huy['PriceScore'] + data_hcm_huy['PriceScore'])/5\n",
    "data_hcm_huy['AvgScore'].agg([missing_ratio, pd.Series.min, pd.Series.max, pd.Series.nunique])    "
   ]
  },
  {
   "cell_type": "markdown",
   "metadata": {},
   "source": [
    "### Thuộc tính category"
   ]
  },
  {
   "cell_type": "code",
   "execution_count": null,
   "metadata": {},
   "outputs": [
    {
     "data": {
      "text/html": [
       "<div>\n",
       "<style scoped>\n",
       "    .dataframe tbody tr th:only-of-type {\n",
       "        vertical-align: middle;\n",
       "    }\n",
       "\n",
       "    .dataframe tbody tr th {\n",
       "        vertical-align: top;\n",
       "    }\n",
       "\n",
       "    .dataframe thead th {\n",
       "        text-align: right;\n",
       "    }\n",
       "</style>\n",
       "<table border=\"1\" class=\"dataframe\">\n",
       "  <thead>\n",
       "    <tr style=\"text-align: right;\">\n",
       "      <th></th>\n",
       "      <th>Name</th>\n",
       "      <th>Address</th>\n",
       "      <th>District</th>\n",
       "      <th>City</th>\n",
       "      <th>PrepTime</th>\n",
       "      <th>Capacity</th>\n",
       "      <th>LastHourCustomer</th>\n",
       "      <th>ExtraInfo</th>\n",
       "      <th>Comment</th>\n",
       "    </tr>\n",
       "  </thead>\n",
       "  <tbody>\n",
       "    <tr>\n",
       "      <th>missing_ratio</th>\n",
       "      <td>0.0</td>\n",
       "      <td>0.0</td>\n",
       "      <td>0.0</td>\n",
       "      <td>0.0</td>\n",
       "      <td>0.099949</td>\n",
       "      <td>36.163444</td>\n",
       "      <td>76.837512</td>\n",
       "      <td>20.108117</td>\n",
       "      <td>0.148312</td>\n",
       "    </tr>\n",
       "    <tr>\n",
       "      <th>nunique</th>\n",
       "      <td>92629</td>\n",
       "      <td>81690</td>\n",
       "      <td>24</td>\n",
       "      <td>1</td>\n",
       "      <td>108</td>\n",
       "      <td>151</td>\n",
       "      <td>141</td>\n",
       "      <td>3056</td>\n",
       "      <td>34665</td>\n",
       "    </tr>\n",
       "    <tr>\n",
       "      <th>unique</th>\n",
       "      <td>[Crystal Jade Palace - Lotte Legend Saigon Hot...</td>\n",
       "      <td>[Legend Hotel, 2A - 4A Tôn Đức Thắng, P. Bến N...</td>\n",
       "      <td>[Quận 1, Tp. Thủ Đức, Quận 10, Quận 2, Quận 7,...</td>\n",
       "      <td>[TP. HCM]</td>\n",
       "      <td>[['5', '10'], ['10', '15'], ['10', '30'], ['10...</td>\n",
       "      <td>[150.0, 202.0, 200.0, 400.0, 90.0, 75.0, 100.0...</td>\n",
       "      <td>[22:00, 21:45, 23:00, 00:30, 01:30, 23:30, 21:...</td>\n",
       "      <td>[Có wifi, Có máy lạnh &amp; điều hòa, Trả bằng thẻ...</td>\n",
       "      <td>[{'Crystal Jade Palace - Lotte Legend Saigon H...</td>\n",
       "    </tr>\n",
       "  </tbody>\n",
       "</table>\n",
       "</div>"
      ],
      "text/plain": [
       "                                                            Name  \\\n",
       "missing_ratio                                                0.0   \n",
       "nunique                                                    92629   \n",
       "unique         [Crystal Jade Palace - Lotte Legend Saigon Hot...   \n",
       "\n",
       "                                                         Address  \\\n",
       "missing_ratio                                                0.0   \n",
       "nunique                                                    81690   \n",
       "unique         [Legend Hotel, 2A - 4A Tôn Đức Thắng, P. Bến N...   \n",
       "\n",
       "                                                        District       City  \\\n",
       "missing_ratio                                                0.0        0.0   \n",
       "nunique                                                       24          1   \n",
       "unique         [Quận 1, Tp. Thủ Đức, Quận 10, Quận 2, Quận 7,...  [TP. HCM]   \n",
       "\n",
       "                                                        PrepTime  \\\n",
       "missing_ratio                                           0.099949   \n",
       "nunique                                                      108   \n",
       "unique         [['5', '10'], ['10', '15'], ['10', '30'], ['10...   \n",
       "\n",
       "                                                        Capacity  \\\n",
       "missing_ratio                                          36.163444   \n",
       "nunique                                                      151   \n",
       "unique         [150.0, 202.0, 200.0, 400.0, 90.0, 75.0, 100.0...   \n",
       "\n",
       "                                                LastHourCustomer  \\\n",
       "missing_ratio                                          76.837512   \n",
       "nunique                                                      141   \n",
       "unique         [22:00, 21:45, 23:00, 00:30, 01:30, 23:30, 21:...   \n",
       "\n",
       "                                                       ExtraInfo  \\\n",
       "missing_ratio                                          20.108117   \n",
       "nunique                                                     3056   \n",
       "unique         [Có wifi, Có máy lạnh & điều hòa, Trả bằng thẻ...   \n",
       "\n",
       "                                                         Comment  \n",
       "missing_ratio                                           0.148312  \n",
       "nunique                                                    34665  \n",
       "unique         [{'Crystal Jade Palace - Lotte Legend Saigon H...  "
      ]
     },
     "execution_count": 19,
     "metadata": {},
     "output_type": "execute_result"
    }
   ],
   "source": [
    "cat_cols = data_hcm_huy.select_dtypes(include=[\"object\"])\n",
    "cat_cols.apply([missing_ratio, pd.Series.nunique, pd.Series.unique])"
   ]
  },
  {
   "cell_type": "markdown",
   "metadata": {},
   "source": [
    "## Save to file"
   ]
  },
  {
   "cell_type": "code",
   "execution_count": null,
   "metadata": {},
   "outputs": [],
   "source": [
    "data_hcm_huy.to_csv('crawled_all_shops/data_hcm_final.csv', index = False, header=True, encoding='utf-8')"
   ]
  },
  {
   "cell_type": "markdown",
   "metadata": {},
   "source": [
    "# Merge detail.csv & data_hcm_final.csv"
   ]
  },
  {
   "cell_type": "code",
   "execution_count": null,
   "metadata": {},
   "outputs": [
    {
     "name": "stderr",
     "output_type": "stream",
     "text": [
      "C:\\Users\\Admin\\AppData\\Local\\Temp\\ipykernel_15704\\713071988.py:1: DtypeWarning: Columns (25) have mixed types. Specify dtype option on import or set low_memory=False.\n",
      "  data_hcm = pd.read_csv('./crawled_all_shops/data_hcm_final.csv')\n"
     ]
    }
   ],
   "source": [
    "data_hcm = pd.read_csv('./crawled_all_shops/data_hcm_final.csv')\n",
    "details = pd.read_csv('./crawled_shop_details/details.csv')"
   ]
  },
  {
   "cell_type": "code",
   "execution_count": null,
   "metadata": {},
   "outputs": [
    {
     "data": {
      "text/plain": [
       "((93047, 32), (54537, 14))"
      ]
     },
     "execution_count": 13,
     "metadata": {},
     "output_type": "execute_result"
    }
   ],
   "source": [
    "data_hcm.shape, details.shape"
   ]
  },
  {
   "cell_type": "code",
   "execution_count": null,
   "metadata": {},
   "outputs": [],
   "source": [
    "data_hcm = data_hcm.astype({\"RestaurantId\": int}, errors='raise') \n",
    "data_hcm = data_hcm.astype({\"RestaurantId\": str}, errors='raise')\n",
    "data_hcm['RestaurantId'].dtype"
   ]
  },
  {
   "cell_type": "code",
   "execution_count": null,
   "metadata": {},
   "outputs": [],
   "source": [
    "result = pd.merge(data_hcm, details, how='left', left_on=['RestaurantId'], right_on = ['request_id'])\n",
    "print(result.shape)\n",
    "result.head()"
   ]
  },
  {
   "cell_type": "code",
   "execution_count": null,
   "metadata": {},
   "outputs": [],
   "source": [
    "result.drop(['is_foody_delivery'], axis=1)"
   ]
  },
  {
   "cell_type": "code",
   "execution_count": null,
   "metadata": {},
   "outputs": [
    {
     "data": {
      "image/png": "[encoded data removed]",
      "text/plain": [
       "<Figure size 640x480 with 1 Axes>"
      ]
     },
     "metadata": {},
     "output_type": "display_data"
    }
   ],
   "source": [
    "import matplotlib.pyplot as plt\n",
    "\n",
    "result.plot.scatter(x='AvgScore', y='avg');"
   ]
  },
  {
   "cell_type": "code",
   "execution_count": null,
   "metadata": {},
   "outputs": [],
   "source": [
    "import json\n",
    "import requests"
   ]
  },
  {
   "cell_type": "code",
   "execution_count": null,
   "metadata": {},
   "outputs": [],
   "source": [
    "promotion_df = result.dropna(subset='promotion')\n",
    "# promotion_df.head()\n",
    "def to_json(s):\n",
    "    try:\n",
    "        json_valid_form = s.replace(\"'\", \"\\\"\").replace(\"False\", \"\\\"False\\\"\").replace(\"True\", \"\\\"True\\\"\")\n",
    "        return json.loads(json_valid_form)\n",
    "    except Exception as e:\n",
    "        print(e)\n",
    "        print(json_valid_form[3800:4000])\n",
    "        print(json_valid_form[3943])\n",
    "        re\n",
    "    \n",
    "for ix in promotion_df.index:\n",
    "    s = promotion_df['promotion'][ix]\n",
    "    to_json(s)"
   ]
  },
  {
   "cell_type": "code",
   "execution_count": 197,
   "metadata": {},
   "outputs": [],
   "source": [
    "def get_promotion(res_id):\n",
    "    detail_API = requests.get(f\"https://gappapi.deliverynow.vn/api/delivery/get_detail?request_id={res_id}&id_type=1\", \n",
    "                                headers={'x-foody-api-version': '1',\n",
    "                                        'x-foody-app-type': '1004',\n",
    "                                        'x-foody-client-language': 'vi',\n",
    "                                        'x-foody-client-type': '1',\n",
    "                                        'x-foody-client-version': '1',\n",
    "                                        'X-Foody-Client-Id': 'cookies.__ondemand_sessionid'\n",
    "                                        }\n",
    "                            )\n",
    "    data = detail_API.text\n",
    "\n",
    "    try:\n",
    "        dataJson = json.loads(data)\n",
    "        detail_infos = dataJson['reply']['delivery_detail']\n",
    "        promotion = detail_infos['delivery']['promotions']\n",
    "        return {\n",
    "                'RestaurantId': res_id,\n",
    "                'promo_code': promotion['promo_code'],\n",
    "                'max_discount_value': promotion['max_discount_value'],\n",
    "                'min_order_amount': promotion['min_order_amount'],\n",
    "                'max_usage_time': promotion['user_condition']['limit_per_user'][0]['max_usage_time'],\n",
    "                'expired': promotion['expired'],\n",
    "                'apply_order': promotion['apply_order'],\n",
    "                'promo_description': promotion['title']['message']\n",
    "            }\n",
    "    except:\n",
    "        return"
   ]
  },
  {
   "cell_type": "code",
   "execution_count": 198,
   "metadata": {},
   "outputs": [
    {
     "data": {
      "text/plain": [
       "93047"
      ]
     },
     "execution_count": 198,
     "metadata": {},
     "output_type": "execute_result"
    }
   ],
   "source": [
    "ls = []\n",
    "for id in result['RestaurantId']:\n",
    "    ls.append(get_promotion(id))\n",
    "len(ls)"
   ]
  },
  {
   "cell_type": "code",
   "execution_count": null,
   "metadata": {},
   "outputs": [],
   "source": [
    "str = result['promotion'].dropna()[16].replace(\"'\", \"\\\"\")\n",
    "str = str.replace(\"False\", \"\\\"False\\\"\")\n",
    "promotion_ls = json.loads(str)\n",
    "\n",
    "# for \n",
    "for promotion in promotion_ls:\n",
    "    promo_code = promotion['promo_code']\n",
    "    max_discount_value = promotion['max_discount_value']\n",
    "    min_order_amount = promotion['min_order_amount']\n",
    "    max_usage_time = promotion['user_condition']['limit_per_user'][0]['max_usage_time']\n",
    "    expired = promotion['expired']\n",
    "    apply_order = promotion['apply_order']\n",
    "    promo_description = promotion['title']['message']"
   ]
  },
  {
   "cell_type": "code",
   "execution_count": 30,
   "metadata": {},
   "outputs": [
    {
     "data": {
      "text/plain": [
       "AvgScore    float64\n",
       "avg         float64\n",
       "dtype: object"
      ]
     },
     "execution_count": 30,
     "metadata": {},
     "output_type": "execute_result"
    }
   ],
   "source": [
    "result = result.astype({\"avg\": np.float64}, errors='raise')\n",
    "result[['AvgScore', 'avg']].dtypes"
   ]
  },
  {
   "cell_type": "code",
   "execution_count": 62,
   "metadata": {},
   "outputs": [
    {
     "data": {
      "text/plain": [
       "(93047, 47)"
      ]
     },
     "execution_count": 62,
     "metadata": {},
     "output_type": "execute_result"
    }
   ],
   "source": [
    "result.shape"
   ]
  },
  {
   "cell_type": "code",
   "execution_count": 63,
   "metadata": {},
   "outputs": [],
   "source": [
    "result.to_csv('crawled_all_shops/data_hcm_final.csv', index = False, header=True, encoding='utf-8')"
   ]
  },
  {
   "cell_type": "markdown",
   "metadata": {},
   "source": [
    "# Merge Checkins.csv\n",
    "Lấy thêm bình luận bằng cách cào mục check-in & comment"
   ]
  },
  {
   "cell_type": "code",
   "execution_count": 2,
   "metadata": {},
   "outputs": [
    {
     "name": "stderr",
     "output_type": "stream",
     "text": [
      "C:\\Users\\Admin\\AppData\\Local\\Temp\\ipykernel_8780\\4099083350.py:1: DtypeWarning: Columns (25) have mixed types. Specify dtype option on import or set low_memory=False.\n",
      "  data_hcm = pd.read_csv('crawled_all_shops/data_hcm_final.csv')\n"
     ]
    }
   ],
   "source": [
    "data_hcm = pd.read_csv('crawled_all_shops/data_hcm_final.csv')\n",
    "extra_rv = pd.read_csv('crawled_all_shops/CheckIns.csv')"
   ]
  },
  {
   "cell_type": "code",
   "execution_count": 11,
   "metadata": {},
   "outputs": [],
   "source": [
    "extra_rv.drop('Unnamed: 0', axis=1, inplace=True)"
   ]
  },
  {
   "cell_type": "code",
   "execution_count": 45,
   "metadata": {},
   "outputs": [
    {
     "data": {
      "text/plain": [
       "\"{'Checked-in': 'Awesome!!!! 😍👌🏻✌🏻️💙💙💙', 'Awesome!': 'Love it so much!!! 💋💋💋', 'Crystal Jade Palace - Lotte Legend Saigon Hotel': 'Ngon, chất lượng, rất thích ăn dimsum ở đây 😁'}\""
      ]
     },
     "execution_count": 45,
     "metadata": {},
     "output_type": "execute_result"
    }
   ],
   "source": [
    "extra_rv.loc[0, 'CheckIns']"
   ]
  },
  {
   "cell_type": "code",
   "execution_count": 37,
   "metadata": {},
   "outputs": [
    {
     "data": {
      "text/plain": [
       "<bound method Series.unique of 0         9\n",
       "1        17\n",
       "2        34\n",
       "3        64\n",
       "4        76\n",
       "         ..\n",
       "93042     0\n",
       "93043     0\n",
       "93044     0\n",
       "93045     0\n",
       "93046     0\n",
       "Name: Comment, Length: 93047, dtype: int64>"
      ]
     },
     "execution_count": 37,
     "metadata": {},
     "output_type": "execute_result"
    }
   ],
   "source": [
    "all_comments = data_hcm['Comment'].apply(lambda x: eval(x) if x == x else \"\")\n",
    "len_comments = all_comments.apply(lambda x: len(x))\n",
    "len_comments.unique"
   ]
  },
  {
   "cell_type": "code",
   "execution_count": 43,
   "metadata": {},
   "outputs": [
    {
     "data": {
      "text/plain": [
       "<AxesSubplot: ylabel='Frequency'>"
      ]
     },
     "execution_count": 43,
     "metadata": {},
     "output_type": "execute_result"
    },
    {
     "data": {
      "image/png": "[encoded data removed]",
      "text/plain": [
       "<Figure size 640x480 with 1 Axes>"
      ]
     },
     "metadata": {},
     "output_type": "display_data"
    }
   ],
   "source": [
    "len_comments[len_comments>0].plot.hist(bins=20)"
   ]
  }
 ],
 "metadata": {
  "kernelspec": {
   "display_name": "Python 3.9.6 64-bit",
   "language": "python",
   "name": "python3"
  },
  "language_info": {
   "codemirror_mode": {
    "name": "ipython",
    "version": 3
   },
   "file_extension": ".py",
   "mimetype": "text/x-python",
   "name": "python",
   "nbconvert_exporter": "python",
   "pygments_lexer": "ipython3",
   "version": "3.9.6"
  },
  "orig_nbformat": 4,
  "vscode": {
   "interpreter": {
    "hash": "0d591c6e422414675974e227c13f5382000c440fedd3c5006ef2be5d887f0ba7"
   }
  }
 },
 "nbformat": 4,
 "nbformat_minor": 2
}
