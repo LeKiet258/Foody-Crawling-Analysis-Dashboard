{
  "cells": [
    {
      "cell_type": "code",
      "execution_count": null,
      "metadata": {
        "id": "2fT63HLozZ6a"
      },
      "outputs": [],
      "source": [
        "import pandas as pd\n",
        "import numpy as np"
      ]
    },
    {
      "cell_type": "code",
      "execution_count": null,
      "metadata": {
        "id": "yeh-0Ho3zZ6c"
      },
      "outputs": [],
      "source": [
        "file1 = pd.read_csv('data_hcm_final.csv')\n",
        "file2 = pd.read_csv('DataComments.csv', low_memory = False)"
      ]
    },
    {
      "cell_type": "code",
      "execution_count": null,
      "metadata": {
        "id": "WhSR4VeQzZ6d"
      },
      "outputs": [],
      "source": [
        "file2 = file2.replace('', np.NaN)\n",
        "\n",
        "file2['TotalViews'] = file2['TotalViews'].fillna(file2['Total_views'])\n",
        "file2['TotalReviews'] = file2['TotalReviews'].fillna(file2['Bình luận đã chia sẻ'])\n",
        "file2['AvgRating'] = file2['TotalReviews'].fillna(file2['Điểm'])\n",
        "\n",
        "#remove duplicated columns\n",
        "file2 = file2.drop(['Unnamed: 0', 'Url','Total_views', 'Bình luận đã chia sẻ', 'Điểm'], axis = 1)\n",
        "#rename columns to english\n",
        "file2 = file2.rename(columns = {'Tuyệt vời': 'nExcellentReviews' , 'Khá tốt': 'nGoodReviews', 'Trung Bình': 'nAverageReviews', 'Kém': 'nBadReviews', 'Vị trí': 'LocationScore', 'Giá cả': 'PriceScore', 'Chất lượng': 'QualityScore', 'Phục vụ': 'ServingScore', 'Không gian': 'SpaceScore', 'Giờ nhận khách cuối': 'LastHourCustomer','Thời gian chuẩn bị': 'PrepTime', 'Sức chứa': 'Capacity', 'Thông tin thêm': 'ExtraInfo', 'AvgRating': 'AvgScore'})\n",
        "file2['ReviewUrl'] = file2['ReviewUrl'].apply(lambda x: x.replace('/binh-luan',''))"
      ]
    },
    {
      "cell_type": "code",
      "execution_count": null,
      "metadata": {
        "id": "8b_U9Sz4zZ6d"
      },
      "outputs": [],
      "source": [
        "def remove(x):\n",
        "    tmp = ['Khoảng ', ' phút', ' người lớn', ' lượt xem']\n",
        "    for value in tmp:\n",
        "        if value in x:\n",
        "            x = x.replace(value, '')\n",
        "    return x"
      ]
    },
    {
      "cell_type": "code",
      "execution_count": null,
      "metadata": {
        "id": "WteUCPoOzZ6e"
      },
      "outputs": [],
      "source": [
        "file2['PrepTime'] = file2['PrepTime'].astype(str)\n",
        "file2['TotalViews'] = file2['TotalViews'].astype(str)\n",
        "file2['Capacity'] = file2['Capacity'].astype(str)\n",
        "file2['LastHourCustomer'] = file2['LastHourCustomer'].astype(str)"
      ]
    },
    {
      "cell_type": "code",
      "execution_count": null,
      "metadata": {
        "id": "lZLQCw52zZ6e"
      },
      "outputs": [],
      "source": [
        "file2['PrepTime'] = file2['PrepTime'].apply(remove)\n",
        "file2['TotalViews'] = file2['TotalViews'].apply(remove)\n",
        "file2['Capacity'] = file2['Capacity'].apply(remove)"
      ]
    },
    {
      "cell_type": "code",
      "execution_count": null,
      "metadata": {
        "id": "Fomu8vPRzZ6f"
      },
      "outputs": [],
      "source": [
        "def timeConversion(s):\n",
        "    if \"PM\" in s:\n",
        "        s=s.replace(\"PM\",\" \")\n",
        "        t= s.split(\":\")\n",
        "        if t[0] != '12':\n",
        "            t[0]=str(int(t[0])+12)\n",
        "            s= (\":\").join(t)\n",
        "        return s\n",
        "    else:\n",
        "        s = s.replace(\"AM\",\" \")\n",
        "        t= s.split(\":\")\n",
        "        if t[0] == '12':\n",
        "            t[0]='00'\n",
        "            s= (\":\").join(t)\n",
        "        return s"
      ]
    },
    {
      "cell_type": "code",
      "execution_count": null,
      "metadata": {
        "id": "ZZXyzu_IzZ6f"
      },
      "outputs": [],
      "source": [
        "def PrepFormat(x):\n",
        "    x = x.split(' - ')\n",
        "    if len(x) == 2 and int(x[0]) > int(x[1]):\n",
        "        x[0],x[1] =  x[1], x[0]\n",
        "    return x"
      ]
    },
    {
      "cell_type": "code",
      "execution_count": null,
      "metadata": {
        "id": "y-I_bR_yzZ6g",
        "outputId": "0af56999-435b-4012-c9c6-592d6d04f4af"
      },
      "outputs": [],
      "source": [
        "file2['LastHourCustomer'] = file2['LastHourCustomer'].apply(timeConversion)\n",
        "file2['TotalViews'] = file2['TotalViews'].apply(lambda x: float(x.replace('K', '')) * 1000 if 'K' in x else float(x))\n",
        "file2['PrepTime'] = file2['PrepTime'].apply(PrepFormat)\n",
        "file2.shape"
      ]
    },
    {
      "cell_type": "code",
      "execution_count": null,
      "metadata": {
        "id": "S4KxHIydzZ6h"
      },
      "outputs": [],
      "source": [
        "file2.to_csv('DataComments_pre.csv', index = False)"
      ]
    }
  ],
  "metadata": {
    "colab": {
      "provenance": []
    },
    "kernelspec": {
      "display_name": "Python 3.10.7 64-bit",
      "language": "python",
      "name": "python3"
    },
    "language_info": {
      "codemirror_mode": {
        "name": "ipython",
        "version": 3
      },
      "file_extension": ".py",
      "mimetype": "text/x-python",
      "name": "python",
      "nbconvert_exporter": "python",
      "pygments_lexer": "ipython3",
      "version": "3.10.7"
    },
    "orig_nbformat": 4,
    "vscode": {
      "interpreter": {
        "hash": "a5cd00253ff53abafe134a240c7ebafd4f04e8bd91e7b9b963b85a984cb4db02"
      }
    }
  },
  "nbformat": 4,
  "nbformat_minor": 0
}
