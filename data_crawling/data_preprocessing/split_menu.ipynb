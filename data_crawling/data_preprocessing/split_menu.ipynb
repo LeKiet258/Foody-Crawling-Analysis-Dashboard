{
  "cells": [
    {
      "cell_type": "code",
      "execution_count": null,
      "metadata": {
        "id": "H9uD_xxUnH3P"
      },
      "outputs": [],
      "source": [
        "import pandas as pd\n",
        "import numpy as np"
      ]
    },
    {
      "cell_type": "code",
      "execution_count": null,
      "metadata": {
        "id": "pzuuxFgdnH3S"
      },
      "outputs": [],
      "source": [
        "file = pd.read_csv('data_hcm_menu.csv')"
      ]
    },
    {
      "cell_type": "code",
      "execution_count": null,
      "metadata": {
        "id": "6jpyIsQgnH3S",
        "outputId": "1981e147-f3ed-4a80-d8e7-190d68cc1d3b"
      },
      "outputs": [
        {
          "data": {
            "text/plain": [
              "(4925721, 16)"
            ]
          },
          "execution_count": 191,
          "metadata": {},
          "output_type": "execute_result"
        }
      ],
      "source": [
        "file.shape"
      ]
    },
    {
      "cell_type": "code",
      "execution_count": null,
      "metadata": {
        "id": "4pVx0UvfnH3T",
        "outputId": "9eb2a480-06a4-4bb1-8b92-c46a592096b7"
      },
      "outputs": [
        {
          "data": {
            "text/plain": [
              "Index(['RestaurantID', 'dish_type_id', 'dish_type_name', 'dish_id',\n",
              "       'dish_name', 'dish_description', 'dish_price_value', 'dish_total_like',\n",
              "       'dish_is_available', 'dish_option_id', 'dish_option_name',\n",
              "       'option_min_select', 'option_max_select', 'item_id', 'item_name',\n",
              "       'item_price'],\n",
              "      dtype='object')"
            ]
          },
          "execution_count": 192,
          "metadata": {},
          "output_type": "execute_result"
        }
      ],
      "source": [
        "file.columns"
      ]
    },
    {
      "cell_type": "code",
      "execution_count": null,
      "metadata": {
        "id": "EH7l2fCVnH3U"
      },
      "outputs": [],
      "source": [
        "file = file.dropna(subset = ['dish_type_id', 'dish_type_name', 'dish_id',\n",
        "       'dish_name', 'dish_description', 'dish_price_value', 'dish_total_like',\n",
        "       'dish_is_available', 'dish_option_id', 'dish_option_name',\n",
        "       'option_min_select', 'option_max_select', 'item_id', 'item_name',\n",
        "       'item_price'], how = 'all')"
      ]
    },
    {
      "cell_type": "code",
      "execution_count": null,
      "metadata": {
        "id": "HR-HgDs4nH3U",
        "outputId": "0906d5b0-bdd9-4a73-d862-ef0e4feb0ef7"
      },
      "outputs": [
        {
          "data": {
            "text/plain": [
              "(4885549, 16)"
            ]
          },
          "execution_count": 194,
          "metadata": {},
          "output_type": "execute_result"
        }
      ],
      "source": [
        "file.shape"
      ]
    },
    {
      "cell_type": "code",
      "execution_count": null,
      "metadata": {
        "id": "ePNodx8anH3U",
        "outputId": "092bc2b4-0c17-4fb4-93e3-035e0f16e3d8"
      },
      "outputs": [
        {
          "data": {
            "text/html": [
              "<div>\n",
              "<style scoped>\n",
              "    .dataframe tbody tr th:only-of-type {\n",
              "        vertical-align: middle;\n",
              "    }\n",
              "\n",
              "    .dataframe tbody tr th {\n",
              "        vertical-align: top;\n",
              "    }\n",
              "\n",
              "    .dataframe thead th {\n",
              "        text-align: right;\n",
              "    }\n",
              "</style>\n",
              "<table border=\"1\" class=\"dataframe\">\n",
              "  <thead>\n",
              "    <tr style=\"text-align: right;\">\n",
              "      <th></th>\n",
              "      <th>RestaurantID</th>\n",
              "      <th>dish_type_id</th>\n",
              "      <th>dish_type_name</th>\n",
              "    </tr>\n",
              "  </thead>\n",
              "  <tbody>\n",
              "    <tr>\n",
              "      <th>0</th>\n",
              "      <td>1027581</td>\n",
              "      <td>1151942.0</td>\n",
              "      <td>BÚN XÌ DẦU TRỘN siêu ngon</td>\n",
              "    </tr>\n",
              "    <tr>\n",
              "      <th>1</th>\n",
              "      <td>766822</td>\n",
              "      <td>373612.0</td>\n",
              "      <td>Nước ép</td>\n",
              "    </tr>\n",
              "    <tr>\n",
              "      <th>2</th>\n",
              "      <td>710709</td>\n",
              "      <td>331070.0</td>\n",
              "      <td>Trà nguyên chất</td>\n",
              "    </tr>\n",
              "    <tr>\n",
              "      <th>3</th>\n",
              "      <td>784952</td>\n",
              "      <td>525394.0</td>\n",
              "      <td>Món canh</td>\n",
              "    </tr>\n",
              "    <tr>\n",
              "      <th>4</th>\n",
              "      <td>723637</td>\n",
              "      <td>1015041.0</td>\n",
              "      <td>Rau</td>\n",
              "    </tr>\n",
              "  </tbody>\n",
              "</table>\n",
              "</div>"
            ],
            "text/plain": [
              "   RestaurantID  dish_type_id             dish_type_name\n",
              "0       1027581     1151942.0  BÚN XÌ DẦU TRỘN siêu ngon\n",
              "1        766822      373612.0                    Nước ép\n",
              "2        710709      331070.0            Trà nguyên chất\n",
              "3        784952      525394.0                   Món canh\n",
              "4        723637     1015041.0                        Rau"
            ]
          },
          "execution_count": 195,
          "metadata": {},
          "output_type": "execute_result"
        }
      ],
      "source": [
        "menu_df_unique = [list(y) for y in set([tuple(x) for x in file[['RestaurantID', 'dish_type_id', 'dish_type_name']].values])]\n",
        "menu_df_list = [(x[0], x[1], x[2]) for x in menu_df_unique]\n",
        "menu_df = pd.DataFrame(menu_df_list, columns=['RestaurantID','dish_type_id', 'dish_type_name'])\n",
        "menu_df.head()"
      ]
    },
    {
      "cell_type": "code",
      "execution_count": null,
      "metadata": {
        "id": "nsKVIvFqnH3V",
        "outputId": "b2f0e88f-6dc4-4644-d051-a118b466d4df"
      },
      "outputs": [
        {
          "data": {
            "text/html": [
              "<div>\n",
              "<style scoped>\n",
              "    .dataframe tbody tr th:only-of-type {\n",
              "        vertical-align: middle;\n",
              "    }\n",
              "\n",
              "    .dataframe tbody tr th {\n",
              "        vertical-align: top;\n",
              "    }\n",
              "\n",
              "    .dataframe thead th {\n",
              "        text-align: right;\n",
              "    }\n",
              "</style>\n",
              "<table border=\"1\" class=\"dataframe\">\n",
              "  <thead>\n",
              "    <tr style=\"text-align: right;\">\n",
              "      <th></th>\n",
              "      <th>RestaurantID</th>\n",
              "      <th>dish_type_id</th>\n",
              "      <th>dish_id</th>\n",
              "      <th>dish_name</th>\n",
              "      <th>dish_description</th>\n",
              "      <th>dish_price_value</th>\n",
              "      <th>dish_total_like</th>\n",
              "      <th>dish_is_available</th>\n",
              "    </tr>\n",
              "  </thead>\n",
              "  <tbody>\n",
              "    <tr>\n",
              "      <th>0</th>\n",
              "      <td>1000037523</td>\n",
              "      <td>2414345.0</td>\n",
              "      <td>30585220.0</td>\n",
              "      <td>Trà sữa thái xanh</td>\n",
              "      <td>NaN</td>\n",
              "      <td>20000.0</td>\n",
              "      <td>0</td>\n",
              "      <td>True</td>\n",
              "    </tr>\n",
              "    <tr>\n",
              "      <th>1</th>\n",
              "      <td>1107967</td>\n",
              "      <td>2172008.0</td>\n",
              "      <td>23947455.0</td>\n",
              "      <td>Trà sữa trân châu</td>\n",
              "      <td>NaN</td>\n",
              "      <td>29000.0</td>\n",
              "      <td>2</td>\n",
              "      <td>True</td>\n",
              "    </tr>\n",
              "    <tr>\n",
              "      <th>2</th>\n",
              "      <td>1000053820</td>\n",
              "      <td>3832186.0</td>\n",
              "      <td>82403370.0</td>\n",
              "      <td>Cà rốt</td>\n",
              "      <td>NaN</td>\n",
              "      <td>20000.0</td>\n",
              "      <td>0</td>\n",
              "      <td>True</td>\n",
              "    </tr>\n",
              "    <tr>\n",
              "      <th>3</th>\n",
              "      <td>794555</td>\n",
              "      <td>545573.0</td>\n",
              "      <td>6173116.0</td>\n",
              "      <td>Bánh bao bột</td>\n",
              "      <td>NaN</td>\n",
              "      <td>9000.0</td>\n",
              "      <td>0</td>\n",
              "      <td>True</td>\n",
              "    </tr>\n",
              "    <tr>\n",
              "      <th>4</th>\n",
              "      <td>1140752</td>\n",
              "      <td>3982800.0</td>\n",
              "      <td>85872118.0</td>\n",
              "      <td>Trà đào</td>\n",
              "      <td>Trà đào có miếng đào</td>\n",
              "      <td>20000.0</td>\n",
              "      <td>0</td>\n",
              "      <td>True</td>\n",
              "    </tr>\n",
              "  </tbody>\n",
              "</table>\n",
              "</div>"
            ],
            "text/plain": [
              "   RestaurantID  dish_type_id     dish_id           dish_name  \\\n",
              "0    1000037523     2414345.0  30585220.0  Trà sữa thái xanh    \n",
              "1       1107967     2172008.0  23947455.0   Trà sữa trân châu   \n",
              "2    1000053820     3832186.0  82403370.0              Cà rốt   \n",
              "3        794555      545573.0   6173116.0        Bánh bao bột   \n",
              "4       1140752     3982800.0  85872118.0             Trà đào   \n",
              "\n",
              "       dish_description  dish_price_value dish_total_like  dish_is_available  \n",
              "0                   NaN           20000.0               0               True  \n",
              "1                   NaN           29000.0               2               True  \n",
              "2                   NaN           20000.0               0               True  \n",
              "3                   NaN            9000.0               0               True  \n",
              "4  Trà đào có miếng đào           20000.0               0               True  "
            ]
          },
          "execution_count": 196,
          "metadata": {},
          "output_type": "execute_result"
        }
      ],
      "source": [
        "menu_dish_df_unique = [list(y) for y in set([tuple(x) for x in file[['RestaurantID', 'dish_type_id', 'dish_id', 'dish_name', 'dish_description', 'dish_price_value', 'dish_total_like', 'dish_is_available']].values])]\n",
        "menu_dish_df_list = [(x[0], x[1], x[2], x[3], x[4], x[5], x[6], x[7]) for x in menu_dish_df_unique]\n",
        "menu_dish_df = pd.DataFrame(menu_dish_df_list, columns = ['RestaurantID', 'dish_type_id', 'dish_id', 'dish_name', 'dish_description', 'dish_price_value', 'dish_total_like', 'dish_is_available'])\n",
        "menu_dish_df.head()"
      ]
    },
    {
      "cell_type": "code",
      "execution_count": null,
      "metadata": {
        "id": "b-o4-V9InH3X"
      },
      "outputs": [],
      "source": [
        "menu_dish_option_unique = [list(y) for y in set([tuple(x) for x in file[['RestaurantID', 'dish_type_id', 'dish_id','dish_option_id', 'dish_option_name', 'option_min_select', 'option_max_select']].values])]\n",
        "menu_dish_option_list = [(x[0], x[1], x[2], x[3], x[4], x[5], x[6]) for x in menu_dish_option_unique]\n",
        "menu_dish_option_df = pd.DataFrame(menu_dish_option_list, columns = ['RestaurantID', 'dish_type_id', 'dish_id','dish_option_id', 'dish_option_name', 'option_min_select', 'option_max_select'])\n",
        "menu_dish_option_df.head()"
      ]
    },
    {
      "cell_type": "code",
      "execution_count": null,
      "metadata": {
        "id": "ygXEVHJQnH3Y",
        "outputId": "6dd94d37-5d79-4443-bc21-bac8fcd9918e"
      },
      "outputs": [
        {
          "data": {
            "text/html": [
              "<div>\n",
              "<style scoped>\n",
              "    .dataframe tbody tr th:only-of-type {\n",
              "        vertical-align: middle;\n",
              "    }\n",
              "\n",
              "    .dataframe tbody tr th {\n",
              "        vertical-align: top;\n",
              "    }\n",
              "\n",
              "    .dataframe thead th {\n",
              "        text-align: right;\n",
              "    }\n",
              "</style>\n",
              "<table border=\"1\" class=\"dataframe\">\n",
              "  <thead>\n",
              "    <tr style=\"text-align: right;\">\n",
              "      <th></th>\n",
              "      <th>RestaurantID</th>\n",
              "      <th>dish_type_id</th>\n",
              "      <th>dish_id</th>\n",
              "      <th>dish_option_id</th>\n",
              "      <th>item_id</th>\n",
              "      <th>item_name</th>\n",
              "      <th>item_price</th>\n",
              "    </tr>\n",
              "  </thead>\n",
              "  <tbody>\n",
              "    <tr>\n",
              "      <th>0</th>\n",
              "      <td>1146074</td>\n",
              "      <td>4354780.0</td>\n",
              "      <td>95191945.0</td>\n",
              "      <td>678793.0</td>\n",
              "      <td>4278174.0</td>\n",
              "      <td>Khăn lạnh</td>\n",
              "      <td>2000.0</td>\n",
              "    </tr>\n",
              "    <tr>\n",
              "      <th>1</th>\n",
              "      <td>182755</td>\n",
              "      <td>648079.0</td>\n",
              "      <td>1476203.0</td>\n",
              "      <td>16810.0</td>\n",
              "      <td>81602.0</td>\n",
              "      <td>Khô</td>\n",
              "      <td>0.0</td>\n",
              "    </tr>\n",
              "    <tr>\n",
              "      <th>2</th>\n",
              "      <td>1138429</td>\n",
              "      <td>3889113.0</td>\n",
              "      <td>83726151.0</td>\n",
              "      <td>650881.0</td>\n",
              "      <td>3981757.0</td>\n",
              "      <td>Green Tea</td>\n",
              "      <td>8000.0</td>\n",
              "    </tr>\n",
              "    <tr>\n",
              "      <th>3</th>\n",
              "      <td>1000050185</td>\n",
              "      <td>3307149.0</td>\n",
              "      <td>63326596.0</td>\n",
              "      <td>NaN</td>\n",
              "      <td>NaN</td>\n",
              "      <td>NaN</td>\n",
              "      <td>NaN</td>\n",
              "    </tr>\n",
              "    <tr>\n",
              "      <th>4</th>\n",
              "      <td>1056498</td>\n",
              "      <td>1372049.0</td>\n",
              "      <td>29126442.0</td>\n",
              "      <td>718374.0</td>\n",
              "      <td>4650796.0</td>\n",
              "      <td>Trái Vải</td>\n",
              "      <td>5000.0</td>\n",
              "    </tr>\n",
              "  </tbody>\n",
              "</table>\n",
              "</div>"
            ],
            "text/plain": [
              "   RestaurantID  dish_type_id     dish_id  dish_option_id    item_id  \\\n",
              "0       1146074     4354780.0  95191945.0        678793.0  4278174.0   \n",
              "1        182755      648079.0   1476203.0         16810.0    81602.0   \n",
              "2       1138429     3889113.0  83726151.0        650881.0  3981757.0   \n",
              "3    1000050185     3307149.0  63326596.0             NaN        NaN   \n",
              "4       1056498     1372049.0  29126442.0        718374.0  4650796.0   \n",
              "\n",
              "   item_name  item_price  \n",
              "0  Khăn lạnh      2000.0  \n",
              "1        Khô         0.0  \n",
              "2  Green Tea      8000.0  \n",
              "3        NaN         NaN  \n",
              "4   Trái Vải      5000.0  "
            ]
          },
          "execution_count": 198,
          "metadata": {},
          "output_type": "execute_result"
        }
      ],
      "source": [
        "menu_dish_option_item_df = [list(y) for y in set([tuple(x) for x in file[['RestaurantID', 'dish_type_id', 'dish_id', 'dish_option_id', 'item_id', 'item_name', 'item_price']].values])]\n",
        "menu_dish_option_item_list = [(x[0], x[1], x[2], x[3], x[4], x[5], x[6]) for x in menu_dish_option_item_df]\n",
        "menu_dish_option_item_df = pd.DataFrame(menu_dish_option_item_list, columns = ['RestaurantID', 'dish_type_id', 'dish_id', 'dish_option_id', 'item_id', 'item_name', 'item_price'])\n",
        "menu_dish_option_item_df.head()"
      ]
    }
  ],
  "metadata": {
    "kernelspec": {
      "display_name": "Python 3.10.7 64-bit",
      "language": "python",
      "name": "python3"
    },
    "language_info": {
      "codemirror_mode": {
        "name": "ipython",
        "version": 3
      },
      "file_extension": ".py",
      "mimetype": "text/x-python",
      "name": "python",
      "nbconvert_exporter": "python",
      "pygments_lexer": "ipython3",
      "version": "3.10.7"
    },
    "orig_nbformat": 4,
    "vscode": {
      "interpreter": {
        "hash": "a5cd00253ff53abafe134a240c7ebafd4f04e8bd91e7b9b963b85a984cb4db02"
      }
    },
    "colab": {
      "provenance": []
    }
  },
  "nbformat": 4,
  "nbformat_minor": 0
}